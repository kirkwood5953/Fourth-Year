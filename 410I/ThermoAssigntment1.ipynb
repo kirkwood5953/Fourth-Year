{
 "cells": [
  {
   "attachments": {},
   "cell_type": "markdown",
   "metadata": {},
   "source": [
    "Thremo Assignment 1 <br>\n",
    "Question 1) Using Plancks distribution and utilizing the provided script."
   ]
  },
  {
   "cell_type": "code",
   "execution_count": 2,
   "metadata": {},
   "outputs": [
    {
     "name": "stdout",
     "output_type": "stream",
     "text": [
      "281293825542.6622\n",
      "A) 281293.8255426622 W/m2/um\n",
      "B) 9001402.41736519 W/m2/um\n",
      "C) 3404575.0958075156 W/m2/um\n"
     ]
    }
   ],
   "source": [
    "import numpy as np\n",
    "import scipy.integrate as sp\n",
    "import planck as pl\n",
    "\n",
    "def planck_elb(lam,T):\n",
    "    \"\"\"\n",
    "    planck_elb(lam,T) calculates the hemispherical spectral emissive power for\n",
    "    for a blackbody using the Planck Law\n",
    "    \n",
    "    Inputs: \n",
    "        lam: wavelength in [m]\n",
    "        T: temperature in [K]\n",
    "        \n",
    "    Output\n",
    "        E_lb: Hemispherical spectral emissive power [W/m2/um]\n",
    "    \"\"\"\n",
    "    \n",
    "    h = 6.62607e-34 ## Planck constant [Js]\n",
    "    kb = 1.38065e-23 ## Boltzmann constant [J/K]\n",
    "    c0 = 2.9979e8 ## Speed of light in vacuum [m/s]\n",
    "    n=1 ## index of refraction [-]\n",
    "    \n",
    "    E_lb = 2 * np.pi * h * c0**2 / (n**2 * lam**5 * (np.exp(h*c0/(n*kb*lam*T))-1)) \n",
    "    \n",
    "\n",
    "    \n",
    "    return E_lb\n",
    "\n",
    "#Question1\n",
    "#A\n",
    "print(\"A) \"+str(planck_elb(1e-6,2000)/1e6)+\" W/m2/um\")\n",
    "#B\n",
    "print(\"B) \"+str(planck_elb(0.5e-6,4000)/1e6)+\" W/m2/um\")\n",
    "#C\n",
    "print(\"C) \"+str(planck_elb(2e-6,4830)/1e6)+\" W/m2/um\")"
   ]
  },
  {
   "attachments": {},
   "cell_type": "markdown",
   "metadata": {},
   "source": [
    "Question 2 <br>\n",
    "Useing a combination of the spectral finite solid angle equation as well as the spectral directional "
   ]
  },
  {
   "cell_type": "code",
   "execution_count": 3,
   "metadata": {},
   "outputs": [
    {
     "name": "stdout",
     "output_type": "stream",
     "text": [
      "Incident power 1 meters away- 0.46241673491010676\n",
      "Incident power 2 meters away- 0.1151710630602509\n"
     ]
    }
   ],
   "source": [
    "#Spectral Finite Solid Angle \n",
    "\n",
    "emitterArea = .05 * .05 #m^2\n",
    "sensorArea = .1 * .1 #m^2\n",
    "r = 1\n",
    "sigma = 5.670374419e-8\n",
    "theta = np.deg2rad(60)\n",
    "phi = np.tan(.1/r)\n",
    "theta1 = theta - np.tan(.1/r)/2\n",
    "theta2 = theta + np.tan(.1/r)/2\n",
    "\n",
    "\n",
    "#angle term of spectral finite solid angle\n",
    "angle = phi*(np.sin(theta2)**2 - np.sin(theta1)**2)/2\n",
    "\n",
    "#blackbody intensity\n",
    "E = sigma * (1200+273.15)**4 / np.pi * np.cos(theta)\n",
    "P = E * angle*emitterArea\n",
    "#A)\n",
    "print(\"Incident power 1 meters away- \"+ str(P))\n",
    "\n",
    "r = 2\n",
    "phi = np.tan(.1/r)\n",
    "theta1 = theta - np.tan(.1/r)/2\n",
    "theta2 = theta + np.tan(.1/r)/2\n",
    "\n",
    "#angle term of spectral finite solid angle\n",
    "angle = phi*(np.sin(theta2)**2 - np.sin(theta1)**2)/2\n",
    "\n",
    "#blackbody intensity\n",
    "E = sigma * (1200+273.15)**4 / np.pi * np.cos(theta)\n",
    "P = E * angle*emitterArea\n",
    "#B)\n",
    "print(\"Incident power 2 meters away- \"+ str(P))"
   ]
  },
  {
   "attachments": {},
   "cell_type": "markdown",
   "metadata": {},
   "source": [
    "C) The values of incident power goes down by a factor of 4 when the sensor doubles its distance from the emitter. This makes sense, as radiation follows the inverse square law. A doubling of the distance decrease the power by 4 times."
   ]
  },
  {
   "attachments": {},
   "cell_type": "markdown",
   "metadata": {},
   "source": [
    "Question 3: <br>"
   ]
  },
  {
   "cell_type": "code",
   "execution_count": 4,
   "metadata": {},
   "outputs": [
    {
     "name": "stdout",
     "output_type": "stream",
     "text": [
      "Visible - 0.10249172588992007\n",
      "Near Infared - 0.9122523068287561\n"
     ]
    }
   ],
   "source": [
    "T = 3000\n",
    "#lambdaT (umK)\n",
    "lambdaT1 = T*(0.4)\n",
    "lambdaT2 = T*(0.74)\n",
    "lambdaT3 = T*(0.7)\n",
    "lambdaT4 = T*(10)\n",
    "\n",
    "h = 6.62607e-34 ## Planck constant [Js]\n",
    "kb = 1.38065e-23 ## Boltzmann constant [J/K]\n",
    "c0 = 2.9979e8 ## Speed of light in vacuum [m/s]\n",
    "\n",
    "def Fintegrand(lamT):\n",
    "    return 2 * np.pi * h * c0**2 / ( (lamT)**5 * (np.exp(h*c0/(kb*lamT))-1))\n",
    " \n",
    "f_lamT = 1/sigma * sp.quad(Fintegrand, lambdaT1*1e-6, lambdaT2*1e-6)[0]\n",
    "print(\"Visible - \" + str(f_lamT))\n",
    "\n",
    "f_lamT = 1/sigma * sp.quad(Fintegrand, lambdaT3*1e-6, lambdaT4*1e-6)[0]\n",
    "print(\"Near Infared - \" + str(f_lamT))"
   ]
  },
  {
   "cell_type": "code",
   "execution_count": 5,
   "metadata": {},
   "outputs": [
    {
     "name": "stdout",
     "output_type": "stream",
     "text": [
      "Visible- 0.10270000000000001\n",
      "Near Infared- 0.9114800000000001\n"
     ]
    }
   ],
   "source": [
    "#F From Tables\n",
    "F1 = 0.00213\n",
    "F2 = 0.10483 #(Interpolated)\n",
    "F3 = 0.08381 #(Interpolated)\n",
    "F4 = 0.99529\n",
    "#Visible\n",
    "F = F2-F1\n",
    "print(\"Visible- \" + str(F))\n",
    "#Near Infared\n",
    "F = F4-F3\n",
    "print(\"Near Infared- \" + str(F))"
   ]
  },
  {
   "attachments": {},
   "cell_type": "markdown",
   "metadata": {},
   "source": [
    "Question 4<br>\n",
    "Using Wein's Displacement Law to find the max wavelength\n"
   ]
  },
  {
   "cell_type": "code",
   "execution_count": 6,
   "metadata": {},
   "outputs": [
    {
     "name": "stdout",
     "output_type": "stream",
     "text": [
      "A) 0.6098947368421053 um\n",
      "B) 2.897 um\n",
      "C) 9.656666666666666 um\n"
     ]
    }
   ],
   "source": [
    "def wein(T):\n",
    "    return  2897/T\n",
    "\n",
    "print(\"A) \"+ str(wein(4750))+\" um\")\n",
    "print(\"B) \"+ str(wein(1000))+\" um\")\n",
    "print(\"C) \"+ str(wein(300))+\" um\")"
   ]
  },
  {
   "attachments": {},
   "cell_type": "markdown",
   "metadata": {},
   "source": [
    "Question 5 <br>\n",
    "The Fraction of energy exiting the blackbody surface is dependent on the total directional Blackbody emissive power integrated over the zentih angle 0-60 divided by the total hemispherical blackbody radiation, which can be calculated by integrating over the full hemisphere. This can be simplified by"
   ]
  },
  {
   "cell_type": "code",
   "execution_count": 7,
   "metadata": {},
   "outputs": [
    {
     "name": "stdout",
     "output_type": "stream",
     "text": [
      "0.75\n"
     ]
    }
   ],
   "source": [
    "theta = 60\n",
    "\n",
    "def integrand(theta):\n",
    "   return np.sin(theta)*np.cos(theta)\n",
    "\n",
    "Fraction = sp.quad(integrand, 0, np.pi/3)[0] / sp.quad(integrand, 0, np.pi/2)[0]\n",
    "print(np.round(Fraction,2))\n"
   ]
  },
  {
   "cell_type": "code",
   "execution_count": 10,
   "metadata": {},
   "outputs": [
    {
     "name": "stdout",
     "output_type": "stream",
     "text": [
      "0.9661555364588336\n"
     ]
    }
   ],
   "source": [
    "print(pl.blackF(14500))"
   ]
  }
 ],
 "metadata": {
  "kernelspec": {
   "display_name": "base",
   "language": "python",
   "name": "python3"
  },
  "language_info": {
   "codemirror_mode": {
    "name": "ipython",
    "version": 3
   },
   "file_extension": ".py",
   "mimetype": "text/x-python",
   "name": "python",
   "nbconvert_exporter": "python",
   "pygments_lexer": "ipython3",
   "version": "3.9.12"
  },
  "orig_nbformat": 4,
  "vscode": {
   "interpreter": {
    "hash": "cf03e3dae6cd90215c49561c10ab9ba5e35cdc7a8fe6139efc815ef068c0abf4"
   }
  }
 },
 "nbformat": 4,
 "nbformat_minor": 2
}
