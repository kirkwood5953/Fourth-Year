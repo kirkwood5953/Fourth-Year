{
 "cells": [
  {
   "attachments": {},
   "cell_type": "markdown",
   "metadata": {},
   "source": [
    "Thremo Assignment 1 <br>\n",
    "Question 1)"
   ]
  },
  {
   "cell_type": "code",
   "execution_count": 77,
   "metadata": {},
   "outputs": [
    {
     "name": "stdout",
     "output_type": "stream",
     "text": [
      "A) 90.01402417365185\n",
      "B) 9001402.41736519\n",
      "C) 3404575.0958075156\n"
     ]
    }
   ],
   "source": [
    "import planck as pl\n",
    "import numpy as np\n",
    "import scipy.integrate as sp\n",
    "\n",
    "\n",
    "#Question1\n",
    "#A\n",
    "print(\"A) \"+str(pl.planck_elb(5e-6,400)/1e6))\n",
    "#B\n",
    "print(\"B) \"+str(pl.planck_elb(0.5e-6,4000)/1e6))\n",
    "#C\n",
    "print(\"C) \"+str(pl.planck_elb(2e-6,4830)/1e6))"
   ]
  },
  {
   "attachments": {},
   "cell_type": "markdown",
   "metadata": {},
   "source": [
    "Question 2"
   ]
  },
  {
   "cell_type": "code",
   "execution_count": 78,
   "metadata": {},
   "outputs": [
    {
     "name": "stdout",
     "output_type": "stream",
     "text": [
      "Incident power 1 meters away- 0.46241673491010676\n",
      "Incident power 2 meters away- 0.1151710630602509\n"
     ]
    }
   ],
   "source": [
    "#Spectral Finite Solid Angle \n",
    "\n",
    "emitterArea = .05 * .05 #m^2\n",
    "sensorArea = .1 * .1 #m^2\n",
    "r = 1\n",
    "sigma = 5.670374419e-8\n",
    "theta = np.deg2rad(60)\n",
    "phi = np.tan(.1/r)\n",
    "theta1 = theta - np.tan(.1/r)/2\n",
    "theta2 = theta + np.tan(.1/r)/2\n",
    "\n",
    "\n",
    "#angle term of spectral finite solid angle\n",
    "angle = phi*(np.sin(theta2)**2 - np.sin(theta1)**2)/2\n",
    "\n",
    "#blackbody intensity\n",
    "E = sigma * (1200+273.15)**4 / np.pi * np.cos(theta)\n",
    "P = E * angle*emitterArea\n",
    "#A)\n",
    "print(\"Incident power 1 meters away- \"+ str(P))\n",
    "\n",
    "r = 2\n",
    "phi = np.tan(.1/r)\n",
    "theta1 = theta - np.tan(.1/r)/2\n",
    "theta2 = theta + np.tan(.1/r)/2\n",
    "\n",
    "#angle term of spectral finite solid angle\n",
    "angle = phi*(np.sin(theta2)**2 - np.sin(theta1)**2)/2\n",
    "\n",
    "#blackbody intensity\n",
    "E = sigma * (1200+273.15)**4 / np.pi * np.cos(theta)\n",
    "P = E * angle*emitterArea\n",
    "#B)\n",
    "print(\"Incident power 2 meters away- \"+ str(P))"
   ]
  },
  {
   "attachments": {},
   "cell_type": "markdown",
   "metadata": {},
   "source": [
    "C) The values of incident power goes down by a factor of 4 when the sensor doubles its distance from the emitter. This makes sense, as radiation follows the inverse square law. A doubling of the distance decrease the power by 4 times."
   ]
  },
  {
   "cell_type": "markdown",
   "metadata": {},
   "source": [
    "Question 3:"
   ]
  },
  {
   "cell_type": "code",
   "execution_count": 79,
   "metadata": {},
   "outputs": [
    {
     "name": "stdout",
     "output_type": "stream",
     "text": [
      "Visible- 0.10249849393810595\n",
      "Near Infared- 0.9123575031013479\n"
     ]
    }
   ],
   "source": [
    "T = 3000\n",
    "#lambdaT (umK)\n",
    "lambdaT1 = T*(0.4)\n",
    "lambdaT2 = T*(0.74)\n",
    "lambdaT3 = T*(0.7)\n",
    "lambdaT4 = T*(10)\n",
    "\n",
    "F = pl.blackF(lambdaT2) - pl.blackF(lambdaT1)\n",
    "print(\"Visible- \" + str(F))\n",
    "F = pl.blackF(lambdaT4) - pl.blackF(lambdaT3)\n",
    "print(\"Near Infared- \" + str(F))"
   ]
  },
  {
   "cell_type": "code",
   "execution_count": 80,
   "metadata": {},
   "outputs": [
    {
     "name": "stdout",
     "output_type": "stream",
     "text": [
      "Visible- 0.10270000000000001\n",
      "Near Infared- 0.9114800000000001\n"
     ]
    }
   ],
   "source": [
    "#F From Tables\n",
    "F1 = 0.00213\n",
    "F2 = 0.10483 #(Interpolated)\n",
    "F3 = 0.08381 #(Interpolated)\n",
    "F4 = 0.99529\n",
    "#Visible\n",
    "F = F2-F1\n",
    "print(\"Visible- \" + str(F))\n",
    "#Near Infared\n",
    "F = F4-F3\n",
    "print(\"Near Infared- \" + str(F))"
   ]
  },
  {
   "attachments": {},
   "cell_type": "markdown",
   "metadata": {},
   "source": [
    "Question 4"
   ]
  },
  {
   "cell_type": "code",
   "execution_count": null,
   "metadata": {},
   "outputs": [],
   "source": []
  },
  {
   "attachments": {},
   "cell_type": "markdown",
   "metadata": {},
   "source": [
    "Question 5 <br>\n",
    "The Fraction of energy exiting the blackbody surface is dependent on the total directional Blackbody emissive power integrated over the zentih angle 0-60 divided by the total hemispherical blackbody radiation, which can be calculated by integrating over the full hemisphere"
   ]
  },
  {
   "cell_type": "code",
   "execution_count": 82,
   "metadata": {},
   "outputs": [
    {
     "name": "stdout",
     "output_type": "stream",
     "text": [
      "0.7499999999999999\n"
     ]
    }
   ],
   "source": [
    "theta = 60\n",
    "\n",
    "def integrand(theta):\n",
    "   return np.sin(theta)*np.cos(theta)\n",
    "\n",
    "Fraction = sp.quad(integrand, 0, np.pi/3)[0] / sp.quad(integrand, 0, np.pi/2)[0]\n",
    "print(Fraction)\n"
   ]
  }
 ],
 "metadata": {
  "kernelspec": {
   "display_name": "base",
   "language": "python",
   "name": "python3"
  },
  "language_info": {
   "codemirror_mode": {
    "name": "ipython",
    "version": 3
   },
   "file_extension": ".py",
   "mimetype": "text/x-python",
   "name": "python",
   "nbconvert_exporter": "python",
   "pygments_lexer": "ipython3",
   "version": "3.9.12"
  },
  "orig_nbformat": 4,
  "vscode": {
   "interpreter": {
    "hash": "cf03e3dae6cd90215c49561c10ab9ba5e35cdc7a8fe6139efc815ef068c0abf4"
   }
  }
 },
 "nbformat": 4,
 "nbformat_minor": 2
}
