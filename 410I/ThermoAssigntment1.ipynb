{
 "cells": [
  {
   "attachments": {},
   "cell_type": "markdown",
   "metadata": {},
   "source": [
    "Thremo Assignment1"
   ]
  },
  {
   "cell_type": "code",
   "execution_count": 9,
   "metadata": {},
   "outputs": [
    {
     "name": "stdout",
     "output_type": "stream",
     "text": [
      "0.0\n",
      "0.0\n",
      "0.0\n"
     ]
    },
    {
     "name": "stderr",
     "output_type": "stream",
     "text": [
      "c:\\Users\\kylek\\Documents\\GitHub\\Fourth-Year\\410I\\planck.py:29: RuntimeWarning: overflow encountered in exp\n",
      "  E_lb = 2 * np.pi * h * c0**2 / (n**2 * lam**5 * (np.exp(h*c0/(n*kb*lam*T))-1))\n"
     ]
    }
   ],
   "source": [
    "import planck as pl\n",
    "import numpy as np\n",
    "import scipy.integrate as sp\n",
    "\n",
    "print(pl.planck_elb(5e-9,400)/1e6)\n",
    "print(pl.planck_elb(0.5e-9,4000)/1e6)\n",
    "print(pl.planck_elb(2e-9,4830)/1e6)"
   ]
  },
  {
   "cell_type": "markdown",
   "metadata": {},
   "source": []
  },
  {
   "cell_type": "code",
   "execution_count": 10,
   "metadata": {},
   "outputs": [
    {
     "name": "stdout",
     "output_type": "stream",
     "text": [
      "0.0025000000000000005\n",
      "0.010000000000000002\n"
     ]
    }
   ],
   "source": [
    "emitterArea = .05 * .05 #m^2\n",
    "sensorArea = .1 * .1 #m^2\n",
    "print(emitterArea)\n",
    "print(sensorArea)"
   ]
  }
 ],
 "metadata": {
  "kernelspec": {
   "display_name": "base",
   "language": "python",
   "name": "python3"
  },
  "language_info": {
   "codemirror_mode": {
    "name": "ipython",
    "version": 3
   },
   "file_extension": ".py",
   "mimetype": "text/x-python",
   "name": "python",
   "nbconvert_exporter": "python",
   "pygments_lexer": "ipython3",
   "version": "3.9.12"
  },
  "orig_nbformat": 4,
  "vscode": {
   "interpreter": {
    "hash": "cf03e3dae6cd90215c49561c10ab9ba5e35cdc7a8fe6139efc815ef068c0abf4"
   }
  }
 },
 "nbformat": 4,
 "nbformat_minor": 2
}
