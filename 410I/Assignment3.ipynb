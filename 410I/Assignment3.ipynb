{
 "cells": [
  {
   "attachments": {},
   "cell_type": "markdown",
   "metadata": {},
   "source": [
    "410I Assignment 3\n",
    "\n",
    "Question 1<br>\n",
    "The view factor for surface 1 to 2 (the sphere to the disk) comes from the configuration factors text. I created a 3rd virtual surface of a cylinder tangent to the sphere and on the same plane as the disk. I then iterated the height manually until the net flux on surface 2 was approximatley 0. "
   ]
  },
  {
   "cell_type": "code",
   "execution_count": 1,
   "metadata": {},
   "outputs": [
    {
     "name": "stdout",
     "output_type": "stream",
     "text": [
      "281293825542.6622\n",
      "Net flux on surface 1 = 8.303e+04 W\n",
      "Net flux on surface 2 = 0.02177 W\n",
      "Net flux on surface 3 = -8.303e+04 W\n",
      "A) The distance that keeps the temperature below 400K is  2.119 m\n",
      "B) The energy required to be provided to the sphere is 83026.50623401697 W\n",
      "B) The energy required to be provided to the sphere is -83026.52800121169 W\n"
     ]
    }
   ],
   "source": [
    "import numpy as np\n",
    "import planck as p\n",
    "import radiosity as r\n",
    "\n",
    "h = 2.119\n",
    "r1 = 1\n",
    "r2 = 0.3\n",
    "\n",
    "a1 = 4*np.pi*r1**2\n",
    "a2 = np.pi*r2**2\n",
    "a3 = 2*np.pi*r1*(h+2*r1)-a2\n",
    "\n",
    "f11 = 0\n",
    "f12 = .5*(1-1/(np.sqrt(1+(.3/h)**2)))\n",
    "f13 = 1-f12\n",
    "f21 = a1/a2*f12\n",
    "f22 = 0\n",
    "f23 = 1-f21\n",
    "f31 = a1/a3*f13\n",
    "f32 = a2/a3*f23\n",
    "f33 = 1-f31-f32\n",
    "\n",
    "a = np.array([a1, a2, a3])\n",
    "f = np.array([[f11, f12, f13], [f21, f22, f23], [f31, f32, f33]])\n",
    "T = np.array([600.0, 400.0, 0])#must be float\n",
    "eps  = np.array([0.9, 0.3, 1])\n",
    "\n",
    "qr = r.rad_encl_q(f,T,eps)*a\n",
    "for i in range(qr.size):\n",
    "    print ('Net flux on surface {:1} = {:.4} W'.format(i+1,qr[i])) \n",
    "\n",
    "print(\"A) The distance that keeps the temperature below 400K is \", h, \"m\")\n",
    "print(\"B) The energy required to be provided to the sphere is \"+str(qr[0]),\"W\")\n",
    "print(\"B) The energy required to be provided to the sphere is \"+ str(qr[2]),\"W\")"
   ]
  },
  {
   "attachments": {},
   "cell_type": "markdown",
   "metadata": {},
   "source": [
    "Question 2<br>\n"
   ]
  },
  {
   "cell_type": "code",
   "execution_count": 2,
   "metadata": {},
   "outputs": [
    {
     "name": "stdout",
     "output_type": "stream",
     "text": [
      "0.9999999999999999\n",
      "Net flux on surface 1 = 3.103e+05 W\n",
      "Net flux on surface 2 = 3.103e+03 W\n",
      "Net flux on surface 3 = -9.13e+05 W\n",
      "16.101777108331227\n"
     ]
    }
   ],
   "source": [
    "angles = np.arange(1,180)*(np.pi/180)\n",
    "sig = 5.67e-8\n",
    "E = 0.3\n",
    "Tb = 1000.0\n",
    "angle = np.pi/3\n",
    "\n",
    "a1 = 1\n",
    "a2 = 1\n",
    "a3 = 2*np.sin(angle/2)\n",
    "print(a3)\n",
    "f11 = 0.0\n",
    "f12 = 1.0-np.sin(angle/2)\n",
    "f13 = 1.0-f12\n",
    "f21 = 1.0-np.sin(angle/2)\n",
    "f22 = 0.0\n",
    "f23 = 1.0-f21\n",
    "f31 = a1/a3*f13\n",
    "f32 = a2/a3*f23\n",
    "f33 = 1-f31-f32\n",
    "\n",
    "f = np.array([[f11, f12, f13], [f21, f22, f23], [f31, f32, f33]])\n",
    "T = np.array([Tb, Tb, 0.0])#must be float\n",
    "eps  = np.array([0.6, 0.3, 1])\n",
    "\n",
    "qr = r.rad_encl_q(f,T,eps)*a\n",
    "qb = -sig*Tb**4\n",
    "\n",
    "for i in range(qr.size):\n",
    "    print('Net flux on surface {:1} = {:.4} W'.format(i+1,qr[i])) \n",
    "\n",
    "appE = qr[2]/qb\n",
    "print(appE)\n",
    "\n",
    "    \n",
    "    \n",
    "\n"
   ]
  }
 ],
 "metadata": {
  "kernelspec": {
   "display_name": "Python 3",
   "language": "python",
   "name": "python3"
  },
  "language_info": {
   "codemirror_mode": {
    "name": "ipython",
    "version": 3
   },
   "file_extension": ".py",
   "mimetype": "text/x-python",
   "name": "python",
   "nbconvert_exporter": "python",
   "pygments_lexer": "ipython3",
   "version": "3.8.10"
  },
  "orig_nbformat": 4,
  "vscode": {
   "interpreter": {
    "hash": "dc6db238785aba2f466fd0e7a0e86acc1529f2f2b11205b8fe975677c42d5a47"
   }
  }
 },
 "nbformat": 4,
 "nbformat_minor": 2
}
