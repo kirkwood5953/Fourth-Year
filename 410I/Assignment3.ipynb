{
 "cells": [
  {
   "attachments": {},
   "cell_type": "markdown",
   "metadata": {},
   "source": [
    "410I Assignment 3\n",
    "\n",
    "Question 1\n",
    "a) To find the terms of the net flux equation we need to find the view factors, using the configuration factors sheet number 17\n"
   ]
  },
  {
   "cell_type": "code",
   "execution_count": 72,
   "metadata": {},
   "outputs": [
    {
     "name": "stdout",
     "output_type": "stream",
     "text": [
      "[[0.         0.00856391 0.99143609]\n",
      " [0.38061807 0.         0.61938193]\n",
      " [0.55776995 0.00784028 0.43438977]]\n",
      "[12.56637061  0.28274334 22.33672377]\n",
      "Incident energy on surface 1 = 869.9 W\n",
      "Incident energy on surface 2 = -3.056 W\n",
      "Incident energy on surface 3 = -866.9 W\n"
     ]
    }
   ],
   "source": [
    "import numpy as np\n",
    "import planck as p\n",
    "import radiosity as r\n",
    "\n",
    "h=1.6\n",
    "r1 = 1\n",
    "r2 = 0.3\n",
    "\n",
    "a1 = 4*np.pi*r1**2\n",
    "a2 = np.pi*r2**2\n",
    "a3 = 2*np.pi*r1*(h+2*r1)-a2\n",
    "\n",
    "f11 = 0\n",
    "f12 = .5*(1-1/(np.sqrt(1+(.3/h)**2)))\n",
    "f13 = 1-f12\n",
    "f21 = a1/a2*f12\n",
    "f22 = 0\n",
    "f23 = 1-f21\n",
    "f31 = a1/a3*f13\n",
    "f32 = a2/a3*f23\n",
    "f33 = 1-f31-f32\n",
    "\n",
    "a = np.array([a1, a2, a3])\n",
    "f = np.array([[f11, f12, f13], [f21, f22, f23], [f31, f32, f33]])\n",
    "T = np.array([8000, 400, 0])\n",
    "eps  = np.array([0.9, 0.3, 1])\n",
    "print(f)\n",
    "print(a)\n",
    "\n",
    "\n",
    "qr = r.rad_encl_q(f,T,eps)*a\n",
    "for i in range(qr.size):\n",
    "    print ('Incident energy on surface {:1} = {:.4} W'.format(i+1,qr[i])) \n",
    "\n"
   ]
  },
  {
   "attachments": {},
   "cell_type": "markdown",
   "metadata": {},
   "source": [
    "Now calculate flux leaving 2"
   ]
  },
  {
   "cell_type": "code",
   "execution_count": 71,
   "metadata": {},
   "outputs": [
    {
     "name": "stdout",
     "output_type": "stream",
     "text": [
      "123.12228335054373\n"
     ]
    }
   ],
   "source": [
    "energy = 0.3*5.67e-8*400**4*a2\n",
    "\n",
    "print(energy)"
   ]
  }
 ],
 "metadata": {
  "kernelspec": {
   "display_name": "Python 3",
   "language": "python",
   "name": "python3"
  },
  "language_info": {
   "codemirror_mode": {
    "name": "ipython",
    "version": 3
   },
   "file_extension": ".py",
   "mimetype": "text/x-python",
   "name": "python",
   "nbconvert_exporter": "python",
   "pygments_lexer": "ipython3",
   "version": "3.8.10"
  },
  "orig_nbformat": 4,
  "vscode": {
   "interpreter": {
    "hash": "dc6db238785aba2f466fd0e7a0e86acc1529f2f2b11205b8fe975677c42d5a47"
   }
  }
 },
 "nbformat": 4,
 "nbformat_minor": 2
}
