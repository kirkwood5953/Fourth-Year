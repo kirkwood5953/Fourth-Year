{
 "cells": [
  {
   "cell_type": "markdown",
   "metadata": {},
   "source": [
    "478 Assignment 3<br>\n",
    "Question 1)"
   ]
  },
  {
   "cell_type": "code",
   "execution_count": 106,
   "metadata": {},
   "outputs": [
    {
     "name": "stdout",
     "output_type": "stream",
     "text": [
      "         pig    pf    pb    pp    ni    nm    nb    BSFC\n",
      "pin28   2.88  1.99  0.89  0.72  0.24  0.41  0.10  493.63\n",
      "pin36   3.62  1.83  1.78  0.68  0.28  0.61  0.17  286.48\n",
      "pin40   4.25  1.87  2.38  0.65  0.30  0.66  0.20  242.63\n",
      "pin45   4.68  1.76  2.92  0.60  0.31  0.72  0.22  220.23\n",
      "pin49   5.34  1.87  3.47  0.58  0.32  0.73  0.24  205.59\n",
      "pin60   6.70  1.92  4.78  0.49  0.34  0.77  0.26  183.07\n",
      "pin70   8.12  1.90  6.21  0.39  0.35  0.80  0.28  170.62\n",
      "pin80   9.22  1.63  7.59  0.28  0.36  0.85  0.30  159.98\n",
      "pin    10.39  1.52  8.87  0.24  0.36  0.87  0.31  154.96\n"
     ]
    }
   ],
   "source": [
    "import numpy as np\n",
    "import scipy as sp\n",
    "from matplotlib import pyplot as plt \n",
    "import os\n",
    "import pandas as pd\n",
    "\n",
    "#function for solving for data from files\n",
    "def cylindercalcs(file,i):\n",
    "    #opens file for reading\n",
    "    f = open(\"C:\\\\Users\\\\kylek\\\\Documents\\\\GitHub\\\\Fourth-Year\\\\478\\\\pressuredata\\\\\" + file,'r')\n",
    "    #reads data from file\n",
    "    results = np.array([])\n",
    "    data = np.loadtxt(f)\n",
    "    crankangle = data[:,0]\n",
    "    pressure = data[:,1]\n",
    "\n",
    "    #engine parameters\n",
    "    cv = 0.717\n",
    "    R = 0.287\n",
    "    CR = 10\n",
    "    Vs = 0.55#L\n",
    "    Vc = np.round(0.55/(CR-1),3)\n",
    "    lc = 148.0 #connecting rod length\n",
    "    rct = 43.3 #crank throw radius\n",
    "    rpm = 2000\n",
    "\n",
    "    T = np.array([3.9,7.8,10.4,12.8,15.2,20.9,27.2,33.2,38.8]) #Brake Torque\n",
    "    mdot = np.array([5.60,6.50,7.34,8.20,9.09,11.13,13.5,15.45,17.49])/30 #g/s\n",
    "    injectiontime = np.array([3355,4115,4670,5209,5738,6938,8260,9549,10821])*1e-6 #s\n",
    "    nr = 2\n",
    "    volume = Vc*(1+(1/2*(CR-1))*(lc/rct + 1 - np.cos(np.deg2rad(crankangle))-np.sqrt((lc/rct)**2-(np.sin(np.deg2rad(crankangle))**2))))\n",
    "    cyclesdt = rpm/60/2 #cycle/s\n",
    "    m = mdot[i]/cyclesdt\n",
    "    LHV = 44.7 #kJ/g\n",
    "   \n",
    "    dPdt = np.diff(pressure)/np.diff(crankangle)\n",
    "    dVdt = np.diff(volume)/np.diff(crankangle)\n",
    "\n",
    "    Qnet = cv/R*volume[0:3599]*dPdt+pressure[0:3599]*dVdt*(cv/R +1)\n",
    "\n",
    "    winet = np.trapz(pressure,volume)\n",
    "    imepnet = winet/Vs\n",
    "\n",
    "    wigross = np.trapz(pressure[900:2700],volume[900:2700])\n",
    "    imepgross = wigross/Vs\n",
    "\n",
    "    bmep = T[i]*2*np.pi*nr/Vs/100\n",
    "    fmep = imepgross - bmep\n",
    "    pmep = imepgross -imepnet\n",
    "\n",
    "    indeff = winet/(m*LHV)/10\n",
    "    meff = bmep/imepnet\n",
    "    beff = indeff*meff\n",
    "  \n",
    "    brakePower = np.pi/30*rpm*T[i] #Watts\n",
    "    BSFC = m/brakePower*3.6e6*10\n",
    "\n",
    "    #adds values to results calc\n",
    "    results=np.append(results,imepgross)\n",
    "    results=np.append(results,fmep)\n",
    "    results=np.append(results,bmep)\n",
    "    results=np.append(results,pmep)\n",
    "    results=np.append(results,indeff)\n",
    "    results=np.append(results,meff)\n",
    "    results=np.append(results,beff)\n",
    "    results=np.append(results,BSFC)\n",
    "    \n",
    "    return  results\n",
    "\n",
    "i = 0\n",
    "finaldata = np.zeros((9,8))\n",
    "#gets the data for each file in folder\n",
    "for file in os.listdir(\"C:\\\\Users\\\\kylek\\\\Documents\\\\GitHub\\\\Fourth-Year\\\\478\\\\pressuredata\"):\n",
    "    finaldata[i] = cylindercalcs(file,i)\n",
    "    i += 1\n",
    "finaldata = np.round(finaldata,2)\n",
    "#Seperates data into plotable values\n",
    "table = finaldata\n",
    "df = pd.DataFrame(table, columns = ['pig', 'pf', 'pb', 'pp','ni','nm','nb','BSFC'], \n",
    "                  index=['pin28', 'pin36', 'pin40', 'pin45','pin49','pin60','pin70','pin80', 'pin'])\n",
    "print(df)\n"
   ]
  },
  {
   "attachments": {},
   "cell_type": "markdown",
   "metadata": {},
   "source": [
    "Question 2"
   ]
  },
  {
   "cell_type": "code",
   "execution_count": 107,
   "metadata": {},
   "outputs": [
    {
     "data": {
      "image/png": "[encoded data removed]",
      "text/plain": [
       "<Figure size 432x288 with 1 Axes>"
      ]
     },
     "metadata": {
      "needs_background": "light"
     },
     "output_type": "display_data"
    }
   ],
   "source": [
    "pig = finaldata[:,0]\n",
    "pf = finaldata[:,1]\n",
    "pb = finaldata[:,2]\n",
    "pp = finaldata[:,3]\n",
    "ni = finaldata[:,4]\n",
    "nm = finaldata[:,5]\n",
    "nb = finaldata[:,6]\n",
    "BSFC = finaldata[:,7]\n",
    "\n",
    "#plotting\n",
    "plt.plot(pb, pig, label = 'pig')\n",
    "plt.plot(pb, pf, label = 'pf')\n",
    "plt.plot(pb, pp, label = 'pp')\n",
    "plt.legend(loc = 'upper left')\n",
    "plt.xlabel('Pb (Pa)')\n",
    "plt.ylabel('Effective Pressure (Pa)')\n",
    "plt.show()"
   ]
  },
  {
   "attachments": {},
   "cell_type": "markdown",
   "metadata": {},
   "source": [
    "As the bmep increases, the imep also linearly increases, as they are directly tied togehter through the crankshaft. The fmep largely stays the same, as the speed of the piston is equal for all operating states. The pmep decreases slightly because the intake pressure is increasing, meaning less work needs to be done to pump air into the cylinder."
   ]
  },
  {
   "cell_type": "code",
   "execution_count": 108,
   "metadata": {},
   "outputs": [
    {
     "data": {
      "image/png": "[encoded data removed]",
      "text/plain": [
       "<Figure size 432x288 with 1 Axes>"
      ]
     },
     "metadata": {
      "needs_background": "light"
     },
     "output_type": "display_data"
    }
   ],
   "source": [
    "plt.plot(pb, ni, label = 'ni')\n",
    "plt.plot(pb, nm, label = 'nm')\n",
    "plt.plot(pb, nb, label = 'nb')\n",
    "plt.legend(loc = 'upper left')\n",
    "plt.xlabel('Pb (Pa)')\n",
    "plt.ylabel('Efficiency (%)')\n",
    "plt.show()"
   ]
  },
  {
   "attachments": {},
   "cell_type": "markdown",
   "metadata": {},
   "source": [
    "The indicated efficiency increases with bmep, as the net work increases "
   ]
  },
  {
   "cell_type": "code",
   "execution_count": 109,
   "metadata": {},
   "outputs": [
    {
     "data": {
      "image/png": "[encoded data removed]",
      "text/plain": [
       "<Figure size 432x288 with 1 Axes>"
      ]
     },
     "metadata": {
      "needs_background": "light"
     },
     "output_type": "display_data"
    }
   ],
   "source": [
    "plt.plot(pb, BSFC, label = 'BSFC')\n",
    "plt.legend(loc = 'upper left')\n",
    "plt.xlabel('Pb (Pa)')\n",
    "plt.ylabel('Brake Specific Fuel Consumption (g/KW/h)')\n",
    "plt.show()"
   ]
  },
  {
   "cell_type": "markdown",
   "metadata": {},
   "source": []
  },
  {
   "attachments": {},
   "cell_type": "markdown",
   "metadata": {},
   "source": [
    "Question 2 <br>\n"
   ]
  },
  {
   "cell_type": "code",
   "execution_count": 114,
   "metadata": {},
   "outputs": [
    {
     "name": "stdout",
     "output_type": "stream",
     "text": [
      "for Pint = 0.8 the volumetric efficiency is 0.9172739928332097\n",
      "for Pint = 0.28 the volumetric efficiency is 0.3152915721090852\n"
     ]
    }
   ],
   "source": [
    "Vs = 0.55 #L\n",
    "P1 = 80 #kPa\n",
    "R = 0.287 #Pa*m^3/K/g\n",
    "pair = 1.205 #g/L\n",
    "\n",
    "mair = Vs*P1/R/298 #g\n",
    "nv = (mair-(15.45/30)*9549e-6)/(Vs*1.01)\n",
    "print(\"for Pint = 0.8 the volumetric efficiency is \" + str(nv))\n",
    "\n",
    "Vs = 0.55 #L\n",
    "P1 = 28 #kPa\n",
    "R = 0.287 #Pa*m^3/K/g\n",
    "pair = 1.205 #g/L\n",
    "\n",
    "mair = Vs*P1/R/298 #g\n",
    "nv = (mair-(15.45/30)*9549e-6)/(Vs*1.01)\n",
    "print(\"for Pint = 0.28 the volumetric efficiency is \" + str(nv))"
   ]
  },
  {
   "attachments": {},
   "cell_type": "markdown",
   "metadata": {},
   "source": [
    "Question 3<>\n"
   ]
  },
  {
   "cell_type": "code",
   "execution_count": 120,
   "metadata": {},
   "outputs": [
    {
     "name": "stdout",
     "output_type": "stream",
     "text": [
      "127.74049217002236 g/30s\n"
     ]
    }
   ],
   "source": [
    "#A\n",
    "#engine parameters\n",
    "Vd = 5.71\n",
    "n = 8\n",
    "Vs = Vd/n\n",
    "rpm = 6000\n",
    "bmep = 10\n",
    "nr = 2\n",
    "nb = 0.3\n",
    "LHV = 44.7 #kJ/g\n",
    "\n",
    "\n",
    "Wb = bmep * Vd\n",
    "mf = Wb/nb/LHV\n",
    "\n",
    "print(str(mf*30)+\" g/30s\")\n",
    "\n",
    "#b\n"
   ]
  }
 ],
 "metadata": {
  "kernelspec": {
   "display_name": "Python 3",
   "language": "python",
   "name": "python3"
  },
  "language_info": {
   "codemirror_mode": {
    "name": "ipython",
    "version": 3
   },
   "file_extension": ".py",
   "mimetype": "text/x-python",
   "name": "python",
   "nbconvert_exporter": "python",
   "pygments_lexer": "ipython3",
   "version": "3.9.12"
  },
  "orig_nbformat": 4
 },
 "nbformat": 4,
 "nbformat_minor": 2
}
